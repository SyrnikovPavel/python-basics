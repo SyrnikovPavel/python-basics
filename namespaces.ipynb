{
 "cells": [
  {
   "cell_type": "code",
   "execution_count": 116,
   "metadata": {},
   "outputs": [],
   "source": [
    "import pprint\n",
    "\n",
    "def find_namespace(namespace: str, namespaces: dict):\n",
    "    \"Функиция для поиска namespace\"\n",
    "    if namespace not in namespaces:\n",
    "        for key in namespaces.keys():\n",
    "            return find_namespace(namespace, namespaces[key]['namespaces'])\n",
    "    else:\n",
    "        return namespaces\n",
    "    \n",
    "def find_parent_namespace(namespace: str, namespaces: dict, key=None):\n",
    "    \"Функция для поиска namespace\"\n",
    "    if namespace not in namespaces:\n",
    "        for key in namespaces.keys():\n",
    "            return find_parent_namespace(namespace, namespaces[key]['namespaces'], key)\n",
    "    else:\n",
    "        return key\n",
    "    \n",
    "def find_variable(variable: str, namespace: str, namespaces: dict):\n",
    "    \"Функция для поиска местоположения переменной\"\n",
    "    namespace_dict = find_namespace(namespace, namespaces)\n",
    "    if namespace_dict is not None:\n",
    "        if variable not in namespace_dict[namespace]['data']:\n",
    "            namespace = find_parent_namespace(namespace, namespaces)\n",
    "            if namespace is None:\n",
    "                return None\n",
    "            else:\n",
    "                return find_variable(variable, namespace, namespaces)\n",
    "        else:\n",
    "            return namespace\n",
    "    else:\n",
    "        None\n",
    "    \n",
    "def create(namespace: str, parent_namespace: str, namespaces: dict):\n",
    "    \"Функция для создания нового namespace\"\n",
    "    parent_namespace_dict = find_namespace(parent_namespace, namespaces)\n",
    "    if parent_namespace_dict is not None:\n",
    "        parent_namespace_dict[parent_namespace]['namespaces'].update({\n",
    "            namespace: {\n",
    "                'namespaces': {},\n",
    "                'data': []\n",
    "            }\n",
    "        })\n",
    "    return namespaces\n",
    "\n",
    "def add(namespace: str, variable: str, namespaces: dict):\n",
    "    \"Функция для добавления переменной к namespace\"\n",
    "    namespace_dict = find_namespace(namespace, namespaces)\n",
    "    if namespace_dict is not None:\n",
    "        if variable not in namespace_dict[namespace]['data']:\n",
    "            namespace_dict[namespace]['data'].append(variable)\n",
    "    return namespaces\n",
    "\n",
    "def get(namespace: str, variable: str, namespaces: dict):\n",
    "    \"Функция возвращает переменной к namespace\"\n",
    "    return find_variable(variable, namespace, namespaces)\n",
    "\n",
    "def cmd(inp: str, namespaces: dict):\n",
    "    \"Выполнение программы пространоство имен\"\n",
    "    command, namespace, argument = inp.split() \n",
    "    if command == 'create':\n",
    "        namespaces = create(namespace, argument, namespaces)\n",
    "    elif command == 'add':\n",
    "        namespaces = add(namespace, argument, namespaces)\n",
    "    elif command == 'get':\n",
    "        print(get(namespace, argument, namespaces))\n",
    "\n",
    "namespaces = {\n",
    "    'global': {\n",
    "        'namespaces': {},\n",
    "         'data': [],\n",
    "    }   \n",
    "}\n",
    "\n",
    "#amount_commands = int(input())\n",
    "#for command in range(amount_commands):\n",
    "#    cmd(input(), namespaces)"
   ]
  },
  {
   "cell_type": "code",
   "execution_count": 120,
   "metadata": {},
   "outputs": [
    {
     "name": "stdout",
     "output_type": "stream",
     "text": [
      "global\n",
      "None\n",
      "bar\n",
      "foo\n",
      "bar\n"
     ]
    }
   ],
   "source": [
    "commands = [\n",
    "    'add global a', \n",
    "    'create foo global', \n",
    "    'add foo b', \n",
    "    'get foo a', \n",
    "    'get foo c', \n",
    "    'create bar foo',\n",
    "    'create barL2 bar', \n",
    "    'create barL4 bar', \n",
    "    'create barL3 barL2', \n",
    "    'add bar a', \n",
    "    'get bar a', \n",
    "    'get bar b', \n",
    "    'get barL3 a'\n",
    "]\n",
    "\n",
    "for command in commands:\n",
    "    cmd(command, namespaces)"
   ]
  },
  {
   "cell_type": "code",
   "execution_count": 121,
   "metadata": {},
   "outputs": [
    {
     "name": "stdout",
     "output_type": "stream",
     "text": [
      "{'global': {'data': ['a'],\n",
      "            'namespaces': {'foo': {'data': ['b'],\n",
      "                                   'namespaces': {'bar': {'data': ['a'],\n",
      "                                                          'namespaces': {'barL2': {'data': [],\n",
      "                                                                                   'namespaces': {'barL3': {'data': [],\n",
      "                                                                                                            'namespaces': {}}}},\n",
      "                                                                         'barL4': {'data': [],\n",
      "                                                                                   'namespaces': {}}}}}}}}}\n"
     ]
    }
   ],
   "source": [
    "pprint.pprint(namespaces)"
   ]
  },
  {
   "cell_type": "code",
   "execution_count": null,
   "metadata": {},
   "outputs": [],
   "source": []
  },
  {
   "cell_type": "code",
   "execution_count": null,
   "metadata": {},
   "outputs": [],
   "source": []
  },
  {
   "cell_type": "code",
   "execution_count": null,
   "metadata": {},
   "outputs": [],
   "source": []
  },
  {
   "cell_type": "code",
   "execution_count": null,
   "metadata": {},
   "outputs": [],
   "source": []
  }
 ],
 "metadata": {
  "kernelspec": {
   "display_name": "Python 3",
   "language": "python",
   "name": "python3"
  },
  "language_info": {
   "codemirror_mode": {
    "name": "ipython",
    "version": 3
   },
   "file_extension": ".py",
   "mimetype": "text/x-python",
   "name": "python",
   "nbconvert_exporter": "python",
   "pygments_lexer": "ipython3",
   "version": "3.7.3"
  }
 },
 "nbformat": 4,
 "nbformat_minor": 2
}
