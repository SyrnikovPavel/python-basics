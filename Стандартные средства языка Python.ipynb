{
 "cells": [
  {
   "cell_type": "code",
   "execution_count": null,
   "metadata": {},
   "outputs": [],
   "source": [
    "try:\n",
    "    foo()\n",
    "except ZeroDivisionError:\n",
    "    print(\"ZeroDivisionError\")\n",
    "except ArithmeticError:\n",
    "    print(\"ArithmeticError\")\n",
    "except AssertionError:\n",
    "    print(\"AssertionError\")"
   ]
  },
  {
   "cell_type": "code",
   "execution_count": null,
   "metadata": {},
   "outputs": [],
   "source": [
    "exceptions = {}\n",
    "throwed_exceptions = []\n",
    "\n",
    "def found_path(exceptions, start, end, path=[]):\n",
    "    path = path + [start]\n",
    "    if start == end:\n",
    "        return path\n",
    "    if start not in exceptions:\n",
    "        return []\n",
    "    for node in exceptions[start]:\n",
    "        if node not in path:\n",
    "            newpath = found_path(exceptions, node, end, path)\n",
    "            if newpath: return newpath\n",
    "    return []\n",
    "\n",
    "n = int(input())\n",
    "for _ in range(n):\n",
    "    inpt = input().split()\n",
    "    child = inpt[0]\n",
    "    parents = inpt[2:]\n",
    "    exceptions[child] = parents\n",
    "\n",
    "m = int(input())\n",
    "for _ in range(m):\n",
    "    throwing = input()\n",
    "    for throwed_exception in throwed_exceptions:\n",
    "        if len(found_path(exceptions, throwing, throwed_exception)) > 1:\n",
    "            print(throwing)\n",
    "            break\n",
    "    throwed_exceptions.append(throwing)"
   ]
  },
  {
   "cell_type": "code",
   "execution_count": 1,
   "metadata": {},
   "outputs": [],
   "source": [
    "class NonPositiveError(Exception):\n",
    "    pass\n",
    "\n",
    "class PositiveList(list):\n",
    "    \n",
    "    def append(self, x):\n",
    "        if x > 0:\n",
    "            super().append(x)\n",
    "        else:\n",
    "            raise NonPositiveError"
   ]
  },
  {
   "cell_type": "code",
   "execution_count": null,
   "metadata": {},
   "outputs": [],
   "source": []
  },
  {
   "cell_type": "code",
   "execution_count": null,
   "metadata": {},
   "outputs": [],
   "source": []
  },
  {
   "cell_type": "code",
   "execution_count": null,
   "metadata": {},
   "outputs": [],
   "source": []
  },
  {
   "cell_type": "code",
   "execution_count": null,
   "metadata": {},
   "outputs": [],
   "source": []
  }
 ],
 "metadata": {
  "kernelspec": {
   "display_name": "Python 3",
   "language": "python",
   "name": "python3"
  },
  "language_info": {
   "codemirror_mode": {
    "name": "ipython",
    "version": 3
   },
   "file_extension": ".py",
   "mimetype": "text/x-python",
   "name": "python",
   "nbconvert_exporter": "python",
   "pygments_lexer": "ipython3",
   "version": "3.7.3"
  }
 },
 "nbformat": 4,
 "nbformat_minor": 2
}
