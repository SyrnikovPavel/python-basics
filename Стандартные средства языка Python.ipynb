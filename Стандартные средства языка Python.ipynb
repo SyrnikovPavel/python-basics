{
 "cells": [
  {
   "cell_type": "code",
   "execution_count": null,
   "metadata": {},
   "outputs": [],
   "source": [
    "try:\n",
    "    foo()\n",
    "except ZeroDivisionError:\n",
    "    print(\"ZeroDivisionError\")\n",
    "except ArithmeticError:\n",
    "    print(\"ArithmeticError\")\n",
    "except AssertionError:\n",
    "    print(\"AssertionError\")"
   ]
  },
  {
   "cell_type": "code",
   "execution_count": null,
   "metadata": {},
   "outputs": [],
   "source": [
    "exceptions = {}\n",
    "throwed_exceptions = []\n",
    "\n",
    "def found_path(exceptions, start, end, path=[]):\n",
    "    path = path + [start]\n",
    "    if start == end:\n",
    "        return path\n",
    "    if start not in exceptions:\n",
    "        return []\n",
    "    for node in exceptions[start]:\n",
    "        if node not in path:\n",
    "            newpath = found_path(exceptions, node, end, path)\n",
    "            if newpath: return newpath\n",
    "    return []\n",
    "\n",
    "n = int(input())\n",
    "for _ in range(n):\n",
    "    inpt = input().split()\n",
    "    child = inpt[0]\n",
    "    parents = inpt[2:]\n",
    "    exceptions[child] = parents\n",
    "\n",
    "m = int(input())\n",
    "for _ in range(m):\n",
    "    throwing = input()\n",
    "    for throwed_exception in throwed_exceptions:\n",
    "        if len(found_path(exceptions, throwing, throwed_exception)) > 1:\n",
    "            print(throwing)\n",
    "            break\n",
    "    throwed_exceptions.append(throwing)"
   ]
  },
  {
   "cell_type": "code",
   "execution_count": 1,
   "metadata": {},
   "outputs": [],
   "source": [
    "class NonPositiveError(Exception):\n",
    "    pass\n",
    "\n",
    "class PositiveList(list):\n",
    "    \n",
    "    def append(self, x):\n",
    "        if x > 0:\n",
    "            super().append(x)\n",
    "        else:\n",
    "            raise NonPositiveError"
   ]
  },
  {
   "cell_type": "code",
   "execution_count": 4,
   "metadata": {},
   "outputs": [
    {
     "name": "stdin",
     "output_type": "stream",
     "text": [
      " 2016 4 20\n",
      " 14\n"
     ]
    },
    {
     "name": "stdout",
     "output_type": "stream",
     "text": [
      "2016 5 4\n"
     ]
    }
   ],
   "source": [
    "import datetime\n",
    "year, month, day = input().split(' ')\n",
    "days = int(input())\n",
    "date = datetime.date(year=int(year), month=int(month), day=int(day))\n",
    "new_date = date + datetime.timedelta(days)\n",
    "print(\"{year} {month} {day}\".format(\n",
    "    year=new_date.year, \n",
    "    month=new_date.month, \n",
    "    day=new_date.day\n",
    "))"
   ]
  },
  {
   "cell_type": "code",
   "execution_count": 21,
   "metadata": {},
   "outputs": [
    {
     "name": "stdout",
     "output_type": "stream",
     "text": [
      "b'Alice loves Bob'\n"
     ]
    }
   ],
   "source": [
    "import simplecrypt\n",
    "\n",
    "with open(\"passwords.txt\", \"rb\") as inp:\n",
    "    passwords = inp.read().decode('utf-8').split('\\n')[:-1] \n",
    "\n",
    "with open(\"encrypted.bin\", \"rb\") as inp:\n",
    "    encrypted = inp.read()\n",
    "    for password in passwords:\n",
    "        try: \n",
    "            plaintext = simplecrypt.decrypt(password, encrypted)\n",
    "            print(plaintext)\n",
    "        except simplecrypt.DecryptionException:\n",
    "            pass"
   ]
  },
  {
   "cell_type": "code",
   "execution_count": null,
   "metadata": {},
   "outputs": [],
   "source": []
  },
  {
   "cell_type": "code",
   "execution_count": null,
   "metadata": {},
   "outputs": [],
   "source": []
  },
  {
   "cell_type": "code",
   "execution_count": 15,
   "metadata": {},
   "outputs": [],
   "source": [
    "with open('dataset_24465_4.txt', 'r', encoding='utf8') as file:\n",
    "    text = file.read()\n",
    "    reserved_text = [x for x in reversed(text.split('\\n')) if x != '']\n",
    "    \n",
    "with open('another_file.txt', 'w', encoding='utf8') as file:\n",
    "    for x in reserved_text:\n",
    "        if x != reserved_text[-1]:\n",
    "            file.writelines(x + '\\n')\n",
    "        else:\n",
    "            file.writelines(x)"
   ]
  },
  {
   "cell_type": "code",
   "execution_count": 44,
   "metadata": {},
   "outputs": [],
   "source": [
    "import os\n",
    "import requests\n",
    "from zipfile import ZipFile\n",
    "\n",
    "url = 'https://stepik.org/media/attachments/lesson/24465/main.zip'\n",
    "myfile = requests.get(url)\n",
    "\n",
    "open('main.zip', 'wb').write(myfile.content)\n",
    "\n",
    "with ZipFile('main.zip', 'r') as zip_obj:\n",
    "    file_names = zip_obj.namelist()\n",
    "    py_files = sorted(['/'.join(x.split('/')[:-1]) for x in file_names if '.py' in x])\n",
    "    py_files = sorted(list(set(py_files)))\n",
    "\n",
    "\n",
    "with open('another_file2.txt', 'w', encoding='utf8') as file:\n",
    "    for filename in py_files:\n",
    "        file.writelines(filename + '\\n')"
   ]
  },
  {
   "cell_type": "code",
   "execution_count": null,
   "metadata": {},
   "outputs": [],
   "source": []
  },
  {
   "cell_type": "code",
   "execution_count": null,
   "metadata": {},
   "outputs": [],
   "source": []
  },
  {
   "cell_type": "code",
   "execution_count": null,
   "metadata": {},
   "outputs": [],
   "source": []
  }
 ],
 "metadata": {
  "kernelspec": {
   "display_name": "Python 3",
   "language": "python",
   "name": "python3"
  },
  "language_info": {
   "codemirror_mode": {
    "name": "ipython",
    "version": 3
   },
   "file_extension": ".py",
   "mimetype": "text/x-python",
   "name": "python",
   "nbconvert_exporter": "python",
   "pygments_lexer": "ipython3",
   "version": "3.7.3"
  }
 },
 "nbformat": 4,
 "nbformat_minor": 2
}
