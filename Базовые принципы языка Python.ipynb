{
 "cells": [
  {
   "cell_type": "code",
   "execution_count": 6,
   "metadata": {},
   "outputs": [],
   "source": [
    "class Buffer:\n",
    "    def __init__(self):\n",
    "        self.array = []\n",
    "    \n",
    "    def add(self, *a):\n",
    "        for x in a:\n",
    "            self.array.append(x)\n",
    "            if len(self.array) == 5:\n",
    "                print(sum(self.array))\n",
    "                self.array = []\n",
    "\n",
    "    def get_current_part(self):\n",
    "        return self.array"
   ]
  },
  {
   "cell_type": "code",
   "execution_count": null,
   "metadata": {},
   "outputs": [],
   "source": [
    "classes = {}\n",
    "\n",
    "def add_class(classes, class_name, parents):\n",
    "    if class_name not in classes:\n",
    "        classes[class_name] = []\n",
    "    classes[class_name].extend(parents)\n",
    "    for parent in parents:\n",
    "        if parent not in classes:\n",
    "            classes[parent] = []\n",
    "\n",
    "def found_path(classes, start, end, path=[]):\n",
    "    path = path + [start]\n",
    "    if start == end:\n",
    "        return path\n",
    "    if start not in classes:\n",
    "        return None\n",
    "    for node in classes[start]:\n",
    "        if node not in path:\n",
    "            newpath = found_path(classes, node, end, path)\n",
    "            if newpath: return newpath\n",
    "    return None\n",
    "\n",
    "def answer(classes, parent, child):\n",
    "    if not(parent or child) in classes or not found_path(classes, child, parent):\n",
    "        return 'No'\n",
    "    return 'Yes'\n",
    "\n",
    "n = int(input())\n",
    "for _ in range(n):\n",
    "    class_description = input().split()\n",
    "    class_name = class_description[0]\n",
    "    class_parents = class_description[2:]\n",
    "    add_class(classes, class_name, class_parents)\n",
    "\n",
    "q = int(input())\n",
    "for _ in range(q):\n",
    "    question = input().split()\n",
    "    parent = question[0]\n",
    "    child = question[1]\n",
    "    print(answer(classes, parent, child))"
   ]
  },
  {
   "cell_type": "code",
   "execution_count": null,
   "metadata": {},
   "outputs": [],
   "source": []
  }
 ],
 "metadata": {
  "kernelspec": {
   "display_name": "Python 3",
   "language": "python",
   "name": "python3"
  },
  "language_info": {
   "codemirror_mode": {
    "name": "ipython",
    "version": 3
   },
   "file_extension": ".py",
   "mimetype": "text/x-python",
   "name": "python",
   "nbconvert_exporter": "python",
   "pygments_lexer": "ipython3",
   "version": "3.7.3"
  }
 },
 "nbformat": 4,
 "nbformat_minor": 2
}
